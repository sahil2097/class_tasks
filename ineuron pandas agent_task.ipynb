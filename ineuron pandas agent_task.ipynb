{
 "cells": [
  {
   "cell_type": "code",
   "execution_count": 1,
   "id": "8dcfbf9d",
   "metadata": {},
   "outputs": [],
   "source": [
    "import pandas as pd"
   ]
  },
  {
   "cell_type": "code",
   "execution_count": 2,
   "id": "6f3d7a9e",
   "metadata": {},
   "outputs": [],
   "source": [
    "df = pd.read_csv(r'C:\\Users\\sahil\\Documents\\ineuron\\dataset\\AgentPerformance.csv')"
   ]
  },
  {
   "cell_type": "code",
   "execution_count": 62,
   "id": "a5daa62e",
   "metadata": {},
   "outputs": [
    {
     "data": {
      "text/html": [
       "<div>\n",
       "<style scoped>\n",
       "    .dataframe tbody tr th:only-of-type {\n",
       "        vertical-align: middle;\n",
       "    }\n",
       "\n",
       "    .dataframe tbody tr th {\n",
       "        vertical-align: top;\n",
       "    }\n",
       "\n",
       "    .dataframe thead th {\n",
       "        text-align: right;\n",
       "    }\n",
       "</style>\n",
       "<table border=\"1\" class=\"dataframe\">\n",
       "  <thead>\n",
       "    <tr style=\"text-align: right;\">\n",
       "      <th></th>\n",
       "      <th>SL No</th>\n",
       "      <th>Date</th>\n",
       "      <th>Agent Name</th>\n",
       "      <th>Total Chats</th>\n",
       "      <th>Average Response Time</th>\n",
       "      <th>Average Resolution Time</th>\n",
       "      <th>Average Rating</th>\n",
       "      <th>Total Feedback</th>\n",
       "    </tr>\n",
       "  </thead>\n",
       "  <tbody>\n",
       "    <tr>\n",
       "      <th>0</th>\n",
       "      <td>1</td>\n",
       "      <td>7/30/2022</td>\n",
       "      <td>Prerna Singh</td>\n",
       "      <td>11</td>\n",
       "      <td>0:00:38</td>\n",
       "      <td>0:04:20</td>\n",
       "      <td>4.11</td>\n",
       "      <td>9</td>\n",
       "    </tr>\n",
       "    <tr>\n",
       "      <th>1</th>\n",
       "      <td>2</td>\n",
       "      <td>7/30/2022</td>\n",
       "      <td>Nandani Gupta</td>\n",
       "      <td>11</td>\n",
       "      <td>0:01:15</td>\n",
       "      <td>0:28:25</td>\n",
       "      <td>3.14</td>\n",
       "      <td>7</td>\n",
       "    </tr>\n",
       "    <tr>\n",
       "      <th>2</th>\n",
       "      <td>3</td>\n",
       "      <td>7/30/2022</td>\n",
       "      <td>Ameya Jain</td>\n",
       "      <td>14</td>\n",
       "      <td>0:00:30</td>\n",
       "      <td>0:11:36</td>\n",
       "      <td>4.55</td>\n",
       "      <td>11</td>\n",
       "    </tr>\n",
       "    <tr>\n",
       "      <th>3</th>\n",
       "      <td>4</td>\n",
       "      <td>7/30/2022</td>\n",
       "      <td>Mahesh Sarade</td>\n",
       "      <td>14</td>\n",
       "      <td>0:01:04</td>\n",
       "      <td>0:15:46</td>\n",
       "      <td>4.71</td>\n",
       "      <td>7</td>\n",
       "    </tr>\n",
       "    <tr>\n",
       "      <th>4</th>\n",
       "      <td>5</td>\n",
       "      <td>7/30/2022</td>\n",
       "      <td>Swati</td>\n",
       "      <td>14</td>\n",
       "      <td>0:01:11</td>\n",
       "      <td>0:16:33</td>\n",
       "      <td>3.67</td>\n",
       "      <td>6</td>\n",
       "    </tr>\n",
       "  </tbody>\n",
       "</table>\n",
       "</div>"
      ],
      "text/plain": [
       "   SL No       Date     Agent Name  Total Chats Average Response Time  \\\n",
       "0      1  7/30/2022   Prerna Singh           11               0:00:38   \n",
       "1      2  7/30/2022  Nandani Gupta           11               0:01:15   \n",
       "2      3  7/30/2022     Ameya Jain           14               0:00:30   \n",
       "3      4  7/30/2022  Mahesh Sarade           14               0:01:04   \n",
       "4      5  7/30/2022         Swati            14               0:01:11   \n",
       "\n",
       "  Average Resolution Time  Average Rating  Total Feedback  \n",
       "0                 0:04:20            4.11               9  \n",
       "1                 0:28:25            3.14               7  \n",
       "2                 0:11:36            4.55              11  \n",
       "3                 0:15:46            4.71               7  \n",
       "4                 0:16:33            3.67               6  "
      ]
     },
     "execution_count": 62,
     "metadata": {},
     "output_type": "execute_result"
    }
   ],
   "source": [
    "df.head()"
   ]
  },
  {
   "cell_type": "code",
   "execution_count": 63,
   "id": "aaec7a83",
   "metadata": {},
   "outputs": [
    {
     "data": {
      "text/plain": [
       "SL No                        int64\n",
       "Date                        object\n",
       "Agent Name                  object\n",
       "Total Chats                  int64\n",
       "Average Response Time       object\n",
       "Average Resolution Time     object\n",
       "Average Rating             float64\n",
       "Total Feedback               int64\n",
       "dtype: object"
      ]
     },
     "execution_count": 63,
     "metadata": {},
     "output_type": "execute_result"
    }
   ],
   "source": [
    "df.dtypes"
   ]
  },
  {
   "cell_type": "code",
   "execution_count": 3,
   "id": "3c6ba4b2",
   "metadata": {},
   "outputs": [],
   "source": [
    "df['converted_date']= pd.to_datetime(df['Date'])"
   ]
  },
  {
   "cell_type": "code",
   "execution_count": 4,
   "id": "bdc1fb58",
   "metadata": {},
   "outputs": [
    {
     "data": {
      "text/plain": [
       "Index(['SL No', 'Date', 'Agent Name', 'Total Chats', 'Average Response Time',\n",
       "       'Average Resolution Time', 'Average Rating', 'Total Feedback',\n",
       "       'converted_date'],\n",
       "      dtype='object')"
      ]
     },
     "execution_count": 4,
     "metadata": {},
     "output_type": "execute_result"
    }
   ],
   "source": [
    "df.columns"
   ]
  },
  {
   "cell_type": "code",
   "execution_count": 5,
   "id": "5d5c1915",
   "metadata": {},
   "outputs": [
    {
     "name": "stderr",
     "output_type": "stream",
     "text": [
      "C:\\Users\\sahil\\AppData\\Local\\Temp\\ipykernel_6732\\336318132.py:1: FutureWarning: Series.dt.weekofyear and Series.dt.week have been deprecated. Please use Series.dt.isocalendar().week instead.\n",
      "  df['week_number'] = df['converted_date'].dt.week\n"
     ]
    }
   ],
   "source": [
    "df['week_number'] = df['converted_date'].dt.week"
   ]
  },
  {
   "cell_type": "code",
   "execution_count": 6,
   "id": "5da6c2aa",
   "metadata": {},
   "outputs": [
    {
     "data": {
      "text/html": [
       "<div>\n",
       "<style scoped>\n",
       "    .dataframe tbody tr th:only-of-type {\n",
       "        vertical-align: middle;\n",
       "    }\n",
       "\n",
       "    .dataframe tbody tr th {\n",
       "        vertical-align: top;\n",
       "    }\n",
       "\n",
       "    .dataframe thead th {\n",
       "        text-align: right;\n",
       "    }\n",
       "</style>\n",
       "<table border=\"1\" class=\"dataframe\">\n",
       "  <thead>\n",
       "    <tr style=\"text-align: right;\">\n",
       "      <th></th>\n",
       "      <th>SL No</th>\n",
       "      <th>Date</th>\n",
       "      <th>Agent Name</th>\n",
       "      <th>Total Chats</th>\n",
       "      <th>Average Response Time</th>\n",
       "      <th>Average Resolution Time</th>\n",
       "      <th>Average Rating</th>\n",
       "      <th>Total Feedback</th>\n",
       "      <th>converted_date</th>\n",
       "      <th>week_number</th>\n",
       "    </tr>\n",
       "  </thead>\n",
       "  <tbody>\n",
       "    <tr>\n",
       "      <th>0</th>\n",
       "      <td>1</td>\n",
       "      <td>7/30/2022</td>\n",
       "      <td>Prerna Singh</td>\n",
       "      <td>11</td>\n",
       "      <td>0:00:38</td>\n",
       "      <td>0:04:20</td>\n",
       "      <td>4.11</td>\n",
       "      <td>9</td>\n",
       "      <td>2022-07-30</td>\n",
       "      <td>30</td>\n",
       "    </tr>\n",
       "    <tr>\n",
       "      <th>1</th>\n",
       "      <td>2</td>\n",
       "      <td>7/30/2022</td>\n",
       "      <td>Nandani Gupta</td>\n",
       "      <td>11</td>\n",
       "      <td>0:01:15</td>\n",
       "      <td>0:28:25</td>\n",
       "      <td>3.14</td>\n",
       "      <td>7</td>\n",
       "      <td>2022-07-30</td>\n",
       "      <td>30</td>\n",
       "    </tr>\n",
       "    <tr>\n",
       "      <th>2</th>\n",
       "      <td>3</td>\n",
       "      <td>7/30/2022</td>\n",
       "      <td>Ameya Jain</td>\n",
       "      <td>14</td>\n",
       "      <td>0:00:30</td>\n",
       "      <td>0:11:36</td>\n",
       "      <td>4.55</td>\n",
       "      <td>11</td>\n",
       "      <td>2022-07-30</td>\n",
       "      <td>30</td>\n",
       "    </tr>\n",
       "    <tr>\n",
       "      <th>3</th>\n",
       "      <td>4</td>\n",
       "      <td>7/30/2022</td>\n",
       "      <td>Mahesh Sarade</td>\n",
       "      <td>14</td>\n",
       "      <td>0:01:04</td>\n",
       "      <td>0:15:46</td>\n",
       "      <td>4.71</td>\n",
       "      <td>7</td>\n",
       "      <td>2022-07-30</td>\n",
       "      <td>30</td>\n",
       "    </tr>\n",
       "    <tr>\n",
       "      <th>4</th>\n",
       "      <td>5</td>\n",
       "      <td>7/30/2022</td>\n",
       "      <td>Swati</td>\n",
       "      <td>14</td>\n",
       "      <td>0:01:11</td>\n",
       "      <td>0:16:33</td>\n",
       "      <td>3.67</td>\n",
       "      <td>6</td>\n",
       "      <td>2022-07-30</td>\n",
       "      <td>30</td>\n",
       "    </tr>\n",
       "    <tr>\n",
       "      <th>...</th>\n",
       "      <td>...</td>\n",
       "      <td>...</td>\n",
       "      <td>...</td>\n",
       "      <td>...</td>\n",
       "      <td>...</td>\n",
       "      <td>...</td>\n",
       "      <td>...</td>\n",
       "      <td>...</td>\n",
       "      <td>...</td>\n",
       "      <td>...</td>\n",
       "    </tr>\n",
       "    <tr>\n",
       "      <th>2155</th>\n",
       "      <td>2156</td>\n",
       "      <td>7/1/2022</td>\n",
       "      <td>Sowmiya Sivakumar</td>\n",
       "      <td>0</td>\n",
       "      <td>0:00:00</td>\n",
       "      <td>0:00:00</td>\n",
       "      <td>0.00</td>\n",
       "      <td>0</td>\n",
       "      <td>2022-07-01</td>\n",
       "      <td>26</td>\n",
       "    </tr>\n",
       "    <tr>\n",
       "      <th>2156</th>\n",
       "      <td>2157</td>\n",
       "      <td>7/1/2022</td>\n",
       "      <td>Nitin M</td>\n",
       "      <td>0</td>\n",
       "      <td>0:00:00</td>\n",
       "      <td>0:00:00</td>\n",
       "      <td>0.00</td>\n",
       "      <td>0</td>\n",
       "      <td>2022-07-01</td>\n",
       "      <td>26</td>\n",
       "    </tr>\n",
       "    <tr>\n",
       "      <th>2157</th>\n",
       "      <td>2158</td>\n",
       "      <td>7/1/2022</td>\n",
       "      <td>Vivek</td>\n",
       "      <td>0</td>\n",
       "      <td>0:00:00</td>\n",
       "      <td>0:00:00</td>\n",
       "      <td>0.00</td>\n",
       "      <td>0</td>\n",
       "      <td>2022-07-01</td>\n",
       "      <td>26</td>\n",
       "    </tr>\n",
       "    <tr>\n",
       "      <th>2158</th>\n",
       "      <td>2159</td>\n",
       "      <td>7/1/2022</td>\n",
       "      <td>Ayushi Mishra</td>\n",
       "      <td>0</td>\n",
       "      <td>0:00:00</td>\n",
       "      <td>0:00:00</td>\n",
       "      <td>0.00</td>\n",
       "      <td>0</td>\n",
       "      <td>2022-07-01</td>\n",
       "      <td>26</td>\n",
       "    </tr>\n",
       "    <tr>\n",
       "      <th>2159</th>\n",
       "      <td>2160</td>\n",
       "      <td>7/1/2022</td>\n",
       "      <td>Chaitra K Hiremath</td>\n",
       "      <td>0</td>\n",
       "      <td>0:00:00</td>\n",
       "      <td>0:00:00</td>\n",
       "      <td>0.00</td>\n",
       "      <td>0</td>\n",
       "      <td>2022-07-01</td>\n",
       "      <td>26</td>\n",
       "    </tr>\n",
       "  </tbody>\n",
       "</table>\n",
       "<p>2160 rows × 10 columns</p>\n",
       "</div>"
      ],
      "text/plain": [
       "      SL No       Date          Agent Name  Total Chats Average Response Time  \\\n",
       "0         1  7/30/2022        Prerna Singh           11               0:00:38   \n",
       "1         2  7/30/2022       Nandani Gupta           11               0:01:15   \n",
       "2         3  7/30/2022          Ameya Jain           14               0:00:30   \n",
       "3         4  7/30/2022       Mahesh Sarade           14               0:01:04   \n",
       "4         5  7/30/2022              Swati            14               0:01:11   \n",
       "...     ...        ...                 ...          ...                   ...   \n",
       "2155   2156   7/1/2022   Sowmiya Sivakumar            0               0:00:00   \n",
       "2156   2157   7/1/2022             Nitin M            0               0:00:00   \n",
       "2157   2158   7/1/2022              Vivek             0               0:00:00   \n",
       "2158   2159   7/1/2022       Ayushi Mishra            0               0:00:00   \n",
       "2159   2160   7/1/2022  Chaitra K Hiremath            0               0:00:00   \n",
       "\n",
       "     Average Resolution Time  Average Rating  Total Feedback converted_date  \\\n",
       "0                    0:04:20            4.11               9     2022-07-30   \n",
       "1                    0:28:25            3.14               7     2022-07-30   \n",
       "2                    0:11:36            4.55              11     2022-07-30   \n",
       "3                    0:15:46            4.71               7     2022-07-30   \n",
       "4                    0:16:33            3.67               6     2022-07-30   \n",
       "...                      ...             ...             ...            ...   \n",
       "2155                 0:00:00            0.00               0     2022-07-01   \n",
       "2156                 0:00:00            0.00               0     2022-07-01   \n",
       "2157                 0:00:00            0.00               0     2022-07-01   \n",
       "2158                 0:00:00            0.00               0     2022-07-01   \n",
       "2159                 0:00:00            0.00               0     2022-07-01   \n",
       "\n",
       "      week_number  \n",
       "0              30  \n",
       "1              30  \n",
       "2              30  \n",
       "3              30  \n",
       "4              30  \n",
       "...           ...  \n",
       "2155           26  \n",
       "2156           26  \n",
       "2157           26  \n",
       "2158           26  \n",
       "2159           26  \n",
       "\n",
       "[2160 rows x 10 columns]"
      ]
     },
     "execution_count": 6,
     "metadata": {},
     "output_type": "execute_result"
    }
   ],
   "source": [
    "df"
   ]
  },
  {
   "cell_type": "code",
   "execution_count": 7,
   "id": "8062268a",
   "metadata": {},
   "outputs": [
    {
     "data": {
      "text/plain": [
       "Index(['SL No', 'Date', 'Agent Name', 'Total Chats', 'Average Response Time',\n",
       "       'Average Resolution Time', 'Average Rating', 'Total Feedback',\n",
       "       'converted_date', 'week_number'],\n",
       "      dtype='object')"
      ]
     },
     "execution_count": 7,
     "metadata": {},
     "output_type": "execute_result"
    }
   ],
   "source": [
    "df.columns"
   ]
  },
  {
   "cell_type": "code",
   "execution_count": 8,
   "id": "c67c77eb",
   "metadata": {},
   "outputs": [],
   "source": [
    "#1 .Find out there avarage rating on weekly basis keep this in a mind that they take two days of leave\n",
    "avg_ratings= (df.groupby(['Agent Name','week_number'])['Average Rating'].sum())/5"
   ]
  },
  {
   "cell_type": "code",
   "execution_count": 9,
   "id": "18f39ad7",
   "metadata": {},
   "outputs": [
    {
     "data": {
      "text/plain": [
       "Agent Name     week_number\n",
       "Abhishek       26             0.000\n",
       "               27             0.000\n",
       "               28             0.000\n",
       "               29             0.000\n",
       "               30             0.000\n",
       "                              ...  \n",
       "Nandani Gupta  26             1.646\n",
       "               27             4.438\n",
       "               28             4.218\n",
       "               29             4.208\n",
       "               30             3.032\n",
       "Name: Average Rating, Length: 200, dtype: float64"
      ]
     },
     "execution_count": 9,
     "metadata": {},
     "output_type": "execute_result"
    }
   ],
   "source": [
    "avg_ratings.head(200)"
   ]
  },
  {
   "cell_type": "code",
   "execution_count": 10,
   "id": "250df2ab",
   "metadata": {},
   "outputs": [
    {
     "data": {
      "text/plain": [
       "Shivananda Sonwane        28\n",
       "Khushboo Priya            26\n",
       "Boktiar Ahmed Bappy       26\n",
       "Jawala Prakash            25\n",
       "Manjunatha A              25\n",
       "Ayushi Mishra             24\n",
       "Ishawant Kumar            24\n",
       "Madhulika G               24\n",
       "Sanjeev Kumar             23\n",
       "Nishtha Jain              23\n",
       "Prerna Singh              22\n",
       "Shivan K                  22\n",
       "Rishav Dash               21\n",
       "Nandani Gupta             21\n",
       "Deepranjan Gupta          21\n",
       "Jaydeep Dixit             21\n",
       "Shubham Sharma            21\n",
       "Hrisikesh Neogi           21\n",
       "Maitry                    20\n",
       "Harikrishnan Shaji        19\n",
       "Bharath                   19\n",
       "Mithun S                  18\n",
       "Mahesh Sarade             18\n",
       "Aditya_iot                17\n",
       "Swati                     17\n",
       "Prabir Kumar Satapathy    17\n",
       "Prateek _iot              17\n",
       "Zeeshan                   16\n",
       "Wasim                     16\n",
       "Ameya Jain                15\n",
       "Aravind                   14\n",
       "Saikumarreddy N           13\n",
       "Aditya Shinde             12\n",
       "Sowmiya Sivakumar          9\n",
       "Jayant Kumar               8\n",
       "Shiva Srivastava           7\n",
       "Anirudh                    7\n",
       "Chaitra K Hiremath         6\n",
       "Vivek                      5\n",
       "Muskan Garg                5\n",
       "Saurabh Shukla             4\n",
       "Maneesh                    3\n",
       "Mukesh Rao                 3\n",
       "Ankitjha                   3\n",
       "Sandipan Saha              3\n",
       "Sudhanshu Kumar            2\n",
       "Mukesh                     2\n",
       "Anurag Tiwari              2\n",
       "Suraj S Bilgi              2\n",
       "Ashad Nasim                2\n",
       "Hitesh Choudhary           1\n",
       "Shivan_S                   1\n",
       "Dibyanshu                  1\n",
       "Mahak                      1\n",
       "Samprit                    1\n",
       "Tarun                      1\n",
       "Name: Agent Name, dtype: int64"
      ]
     },
     "execution_count": 10,
     "metadata": {},
     "output_type": "execute_result"
    }
   ],
   "source": [
    "#2 .Total working days for each agents \n",
    "\n",
    "df[df['Total Chats']>0]['Agent Name'].value_counts()"
   ]
  },
  {
   "cell_type": "code",
   "execution_count": 11,
   "id": "fe675821",
   "metadata": {},
   "outputs": [
    {
     "data": {
      "text/plain": [
       "Agent Name\n",
       "Abhishek           0\n",
       "Aditya             0\n",
       "Aditya Shinde    277\n",
       "Aditya_iot       231\n",
       "Amersh             0\n",
       "                ... \n",
       "Uday Mishra        0\n",
       "Vasanth P          0\n",
       "Vivek             44\n",
       "Wasim            433\n",
       "Zeeshan          542\n",
       "Name: Total Chats, Length: 70, dtype: int64"
      ]
     },
     "execution_count": 11,
     "metadata": {},
     "output_type": "execute_result"
    }
   ],
   "source": [
    "#3. Total query that you hvae taken \n",
    "\n",
    "df.groupby('Agent Name')['Total Chats'].sum()"
   ]
  },
  {
   "cell_type": "code",
   "execution_count": 12,
   "id": "bd239c67",
   "metadata": {},
   "outputs": [
    {
     "data": {
      "text/plain": [
       "Agent Name\n",
       "Abhishek           0\n",
       "Aditya             0\n",
       "Aditya Shinde    153\n",
       "Aditya_iot       131\n",
       "Amersh             0\n",
       "                ... \n",
       "Uday Mishra        0\n",
       "Vasanth P          0\n",
       "Vivek             20\n",
       "Wasim            284\n",
       "Zeeshan          335\n",
       "Name: Total Feedback, Length: 70, dtype: int64"
      ]
     },
     "execution_count": 12,
     "metadata": {},
     "output_type": "execute_result"
    }
   ],
   "source": [
    "#4 total Feedback that you have received \n",
    "\n",
    "df.groupby('Agent Name')['Total Feedback'].sum()"
   ]
  },
  {
   "cell_type": "code",
   "execution_count": 13,
   "id": "a72e0eec",
   "metadata": {},
   "outputs": [],
   "source": [
    "#5 a agent name who have average rating between 3.5 to 4 \n",
    "\n",
    "df1 = df.groupby('Agent Name')['Average Rating'].sum()/df[df['Total Chats']>0]['Agent Name'].value_counts()"
   ]
  },
  {
   "cell_type": "code",
   "execution_count": 14,
   "id": "73a7bbcf",
   "metadata": {},
   "outputs": [],
   "source": [
    "df1.dropna(inplace= True)"
   ]
  },
  {
   "cell_type": "code",
   "execution_count": 15,
   "id": "97bbb86c",
   "metadata": {},
   "outputs": [
    {
     "data": {
      "text/plain": [
       "Aditya Shinde             4.500833\n",
       "Aditya_iot                4.138824\n",
       "Ameya Jain                4.439333\n",
       "Anirudh                   2.764286\n",
       "Ankitjha                  2.666667\n",
       "Anurag Tiwari             2.750000\n",
       "Aravind                   4.674286\n",
       "Ashad Nasim               2.500000\n",
       "Ayushi Mishra             4.352500\n",
       "Bharath                   4.711053\n",
       "Boktiar Ahmed Bappy       4.116923\n",
       "Chaitra K Hiremath        4.323333\n",
       "Deepranjan Gupta          4.123810\n",
       "Dibyanshu                 0.000000\n",
       "Harikrishnan Shaji        4.167895\n",
       "Hitesh Choudhary          0.000000\n",
       "Hrisikesh Neogi           4.480476\n",
       "Ishawant Kumar            4.429167\n",
       "Jawala Prakash            4.166400\n",
       "Jayant Kumar              4.007500\n",
       "Jaydeep Dixit             4.524286\n",
       "Khushboo Priya            4.273462\n",
       "Madhulika G               4.373333\n",
       "Mahak                     3.000000\n",
       "Mahesh Sarade             4.000556\n",
       "Maitry                    4.390500\n",
       "Maneesh                   1.666667\n",
       "Manjunatha A              4.313600\n",
       "Mithun S                  3.931667\n",
       "Mukesh                    4.645000\n",
       "Mukesh Rao                2.556667\n",
       "Muskan Garg               4.274000\n",
       "Nandani Gupta             4.176667\n",
       "Nishtha Jain              4.281304\n",
       "Prabir Kumar Satapathy    4.430000\n",
       "Prateek _iot              4.302941\n",
       "Prerna Singh              4.408182\n",
       "Rishav Dash               4.076667\n",
       "Saikumarreddy N           4.570000\n",
       "Samprit                   0.000000\n",
       "Sandipan Saha             4.290000\n",
       "Sanjeev Kumar             4.412609\n",
       "Saurabh Shukla            4.167500\n",
       "Shiva Srivastava          4.048571\n",
       "Shivan K                  3.874545\n",
       "Shivan_S                  4.250000\n",
       "Shivananda Sonwane        4.535000\n",
       "Shubham Sharma            4.607619\n",
       "Sowmiya Sivakumar         4.200000\n",
       "Sudhanshu Kumar           5.000000\n",
       "Suraj S Bilgi             4.680000\n",
       "Swati                     4.277059\n",
       "Tarun                     1.500000\n",
       "Vivek                     3.004000\n",
       "Wasim                     4.500000\n",
       "Zeeshan                   4.288125\n",
       "dtype: float64"
      ]
     },
     "execution_count": 15,
     "metadata": {},
     "output_type": "execute_result"
    }
   ],
   "source": [
    "df1"
   ]
  },
  {
   "cell_type": "code",
   "execution_count": 16,
   "id": "39ebee79",
   "metadata": {},
   "outputs": [
    {
     "data": {
      "text/plain": [
       "Aditya_iot                4.138824\n",
       "Ameya Jain                4.439333\n",
       "Ayushi Mishra             4.352500\n",
       "Boktiar Ahmed Bappy       4.116923\n",
       "Chaitra K Hiremath        4.323333\n",
       "Deepranjan Gupta          4.123810\n",
       "Harikrishnan Shaji        4.167895\n",
       "Hrisikesh Neogi           4.480476\n",
       "Ishawant Kumar            4.429167\n",
       "Jawala Prakash            4.166400\n",
       "Jayant Kumar              4.007500\n",
       "Khushboo Priya            4.273462\n",
       "Madhulika G               4.373333\n",
       "Mahesh Sarade             4.000556\n",
       "Maitry                    4.390500\n",
       "Manjunatha A              4.313600\n",
       "Mithun S                  3.931667\n",
       "Muskan Garg               4.274000\n",
       "Nandani Gupta             4.176667\n",
       "Nishtha Jain              4.281304\n",
       "Prabir Kumar Satapathy    4.430000\n",
       "Prateek _iot              4.302941\n",
       "Prerna Singh              4.408182\n",
       "Rishav Dash               4.076667\n",
       "Sandipan Saha             4.290000\n",
       "Sanjeev Kumar             4.412609\n",
       "Saurabh Shukla            4.167500\n",
       "Shiva Srivastava          4.048571\n",
       "Shivan K                  3.874545\n",
       "Shivan_S                  4.250000\n",
       "Sowmiya Sivakumar         4.200000\n",
       "Swati                     4.277059\n",
       "Zeeshan                   4.288125\n",
       "dtype: float64"
      ]
     },
     "execution_count": 16,
     "metadata": {},
     "output_type": "execute_result"
    }
   ],
   "source": [
    "df1[(df1 > 3.5) & (df1 < 4.5)]"
   ]
  },
  {
   "cell_type": "code",
   "execution_count": 17,
   "id": "8c66445e",
   "metadata": {},
   "outputs": [
    {
     "data": {
      "text/plain": [
       "Anirudh             2.764286\n",
       "Ankitjha            2.666667\n",
       "Anurag Tiwari       2.750000\n",
       "Ashad Nasim         2.500000\n",
       "Dibyanshu           0.000000\n",
       "Hitesh Choudhary    0.000000\n",
       "Mahak               3.000000\n",
       "Maneesh             1.666667\n",
       "Mukesh Rao          2.556667\n",
       "Samprit             0.000000\n",
       "Tarun               1.500000\n",
       "Vivek               3.004000\n",
       "dtype: float64"
      ]
     },
     "execution_count": 17,
     "metadata": {},
     "output_type": "execute_result"
    }
   ],
   "source": [
    "#6 . Agent name who have rating lesss then 3.5 \n",
    "\n",
    "df1[df1<3.5]"
   ]
  },
  {
   "cell_type": "code",
   "execution_count": 18,
   "id": "86402397",
   "metadata": {},
   "outputs": [
    {
     "data": {
      "text/plain": [
       "Aditya Shinde         4.500833\n",
       "Aravind               4.674286\n",
       "Bharath               4.711053\n",
       "Jaydeep Dixit         4.524286\n",
       "Mukesh                4.645000\n",
       "Saikumarreddy N       4.570000\n",
       "Shivananda Sonwane    4.535000\n",
       "Shubham Sharma        4.607619\n",
       "Sudhanshu Kumar       5.000000\n",
       "Suraj S Bilgi         4.680000\n",
       "dtype: float64"
      ]
     },
     "execution_count": 18,
     "metadata": {},
     "output_type": "execute_result"
    }
   ],
   "source": [
    "# 7 . agent name who have rating more then 4.5 \n",
    "df1[df1>4.5]"
   ]
  },
  {
   "cell_type": "code",
   "execution_count": 19,
   "id": "53864edb",
   "metadata": {},
   "outputs": [],
   "source": [
    "#8 . how many feedaback agents have received more then 4.5 average\n",
    "\n",
    "# getting ratings more than 4.5\n",
    "df2= df[df['Average Rating']>4.5]\n"
   ]
  },
  {
   "cell_type": "code",
   "execution_count": 20,
   "id": "077df321",
   "metadata": {},
   "outputs": [
    {
     "data": {
      "text/plain": [
       "Agent Name\n",
       "Aditya Shinde              73\n",
       "Aditya_iot                 43\n",
       "Ameya Jain                150\n",
       "Anirudh                     2\n",
       "Ankitjha                    1\n",
       "Aravind                   178\n",
       "Ayushi Mishra              75\n",
       "Bharath                   231\n",
       "Boktiar Ahmed Bappy        52\n",
       "Chaitra K Hiremath          5\n",
       "Deepranjan Gupta           83\n",
       "Harikrishnan Shaji         80\n",
       "Hrisikesh Neogi           183\n",
       "Ishawant Kumar             79\n",
       "Jawala Prakash             33\n",
       "Jayant Kumar                7\n",
       "Jaydeep Dixit             179\n",
       "Khushboo Priya            134\n",
       "Madhulika G                67\n",
       "Mahesh Sarade              46\n",
       "Maitry                     81\n",
       "Manjunatha A              132\n",
       "Mithun S                   93\n",
       "Mukesh                     17\n",
       "Mukesh Rao                  1\n",
       "Muskan Garg                14\n",
       "Nandani Gupta              91\n",
       "Nishtha Jain               18\n",
       "Prabir Kumar Satapathy     53\n",
       "Prateek _iot               54\n",
       "Prerna Singh               82\n",
       "Rishav Dash                27\n",
       "Saikumarreddy N           184\n",
       "Sandipan Saha               1\n",
       "Sanjeev Kumar             164\n",
       "Saurabh Shukla              3\n",
       "Shiva Srivastava            2\n",
       "Shivan K                  130\n",
       "Shivananda Sonwane        154\n",
       "Shubham Sharma            155\n",
       "Sowmiya Sivakumar          16\n",
       "Sudhanshu Kumar             2\n",
       "Suraj S Bilgi               4\n",
       "Swati                     103\n",
       "Vivek                       3\n",
       "Wasim                     156\n",
       "Zeeshan                    48\n",
       "Name: Total Feedback, dtype: int64"
      ]
     },
     "execution_count": 20,
     "metadata": {},
     "output_type": "execute_result"
    }
   ],
   "source": [
    "# adding total number of feedbacks that are more than 4.5\n",
    "df2.groupby('Agent Name')['Total Feedback'].sum()"
   ]
  },
  {
   "cell_type": "code",
   "execution_count": 21,
   "id": "715518e0",
   "metadata": {},
   "outputs": [],
   "source": [
    "df3 = pd.read_csv(r'C:\\Users\\sahil\\Documents\\ineuron\\dataset\\AgentLogingReport.csv')"
   ]
  },
  {
   "cell_type": "code",
   "execution_count": 29,
   "id": "9fe3704f",
   "metadata": {},
   "outputs": [
    {
     "data": {
      "text/plain": [
       "Index(['SL No', 'Date', 'Agent Name', 'Total Chats', 'Average Response Time',\n",
       "       'Average Resolution Time', 'Average Rating', 'Total Feedback',\n",
       "       'converted_date', 'week_number'],\n",
       "      dtype='object')"
      ]
     },
     "execution_count": 29,
     "metadata": {},
     "output_type": "execute_result"
    }
   ],
   "source": [
    "df.columns"
   ]
  },
  {
   "cell_type": "code",
   "execution_count": null,
   "id": "c3742c0d",
   "metadata": {},
   "outputs": [],
   "source": [
    "## df['Average Response Time'] = datetime.strftime(\"%H:%M:%S\")(df['Average Response Time'])"
   ]
  },
  {
   "cell_type": "code",
   "execution_count": 30,
   "id": "491a5466",
   "metadata": {},
   "outputs": [
    {
     "data": {
      "text/plain": [
       "SL No                               int64\n",
       "Date                               object\n",
       "Agent Name                         object\n",
       "Total Chats                         int64\n",
       "Average Response Time              object\n",
       "Average Resolution Time            object\n",
       "Average Rating                    float64\n",
       "Total Feedback                      int64\n",
       "converted_date             datetime64[ns]\n",
       "week_number                         int64\n",
       "dtype: object"
      ]
     },
     "execution_count": 30,
     "metadata": {},
     "output_type": "execute_result"
    }
   ],
   "source": [
    "#9 . average weekly response time for each agent \n",
    "df.dtypes"
   ]
  },
  {
   "cell_type": "code",
   "execution_count": 33,
   "id": "d5c00149",
   "metadata": {},
   "outputs": [],
   "source": [
    "df['Average_res_time_min'] = pd.to_datetime(df['Average Response Time'], format ='%H:%M:%S').dt.minute"
   ]
  },
  {
   "cell_type": "code",
   "execution_count": 37,
   "id": "b7c2d6c4",
   "metadata": {},
   "outputs": [
    {
     "data": {
      "text/plain": [
       "Agent Name\n",
       "Abhishek         0.000000\n",
       "Aditya           0.000000\n",
       "Aditya Shinde    0.333333\n",
       "Aditya_iot       0.200000\n",
       "Amersh           0.000000\n",
       "                   ...   \n",
       "Uday Mishra      0.000000\n",
       "Vasanth P        0.000000\n",
       "Vivek            0.133333\n",
       "Wasim            0.200000\n",
       "Zeeshan          0.733333\n",
       "Name: Average_res_time_min, Length: 70, dtype: float64"
      ]
     },
     "execution_count": 37,
     "metadata": {},
     "output_type": "execute_result"
    }
   ],
   "source": [
    "df.groupby('Agent Name')['Average_res_time_min'].mean()\n"
   ]
  },
  {
   "cell_type": "code",
   "execution_count": 45,
   "id": "197b914c",
   "metadata": {},
   "outputs": [],
   "source": [
    "# 10. Average weekly resolution time for each agent\n",
    "\n",
    "df['Average_Resolution_Time_min'] =pd.to_datetime(df['Average Resolution Time'], format ='%H:%M:%S').dt.minute"
   ]
  },
  {
   "cell_type": "code",
   "execution_count": 46,
   "id": "835e3cb4",
   "metadata": {},
   "outputs": [
    {
     "data": {
      "text/plain": [
       "Index(['SL No', 'Date', 'Agent Name', 'Total Chats', 'Average Response Time',\n",
       "       'Average Resolution Time', 'Average Rating', 'Total Feedback',\n",
       "       'converted_date', 'week_number', 'Average_res_time_min',\n",
       "       'Average_Resolution_Time_min'],\n",
       "      dtype='object')"
      ]
     },
     "execution_count": 46,
     "metadata": {},
     "output_type": "execute_result"
    }
   ],
   "source": [
    "df.columns"
   ]
  },
  {
   "cell_type": "code",
   "execution_count": 47,
   "id": "b662bb50",
   "metadata": {},
   "outputs": [
    {
     "data": {
      "text/plain": [
       "Agent Name          week_number\n",
       "Deepranjan Gupta    27             25.428571\n",
       "Khushboo Priya      27             23.428571\n",
       "Shivananda Sonwane  30             23.166667\n",
       "Aditya Shinde       28             22.285714\n",
       "Shivananda Sonwane  26             21.666667\n",
       "                                     ...    \n",
       "Maneesh             28              0.000000\n",
       "                    29              0.000000\n",
       "                    30              0.000000\n",
       "Abhishek            27              0.000000\n",
       "Mithun S            26              0.000000\n",
       "Name: Average_Resolution_Time_min, Length: 350, dtype: float64"
      ]
     },
     "execution_count": 47,
     "metadata": {},
     "output_type": "execute_result"
    }
   ],
   "source": [
    "df.groupby(['Agent Name','week_number'])['Average_Resolution_Time_min'].mean().sort_values(ascending = False)"
   ]
  },
  {
   "cell_type": "code",
   "execution_count": 39,
   "id": "631e2f6e",
   "metadata": {},
   "outputs": [
    {
     "data": {
      "text/plain": [
       "SL No                               int64\n",
       "Date                               object\n",
       "Agent Name                         object\n",
       "Total Chats                         int64\n",
       "Average Response Time              object\n",
       "Average Resolution Time    datetime64[ns]\n",
       "Average Rating                    float64\n",
       "Total Feedback                      int64\n",
       "converted_date             datetime64[ns]\n",
       "week_number                         int64\n",
       "Average_res_time_min                int64\n",
       "dtype: object"
      ]
     },
     "execution_count": 39,
     "metadata": {},
     "output_type": "execute_result"
    }
   ],
   "source": [
    "df.dtypes"
   ]
  },
  {
   "cell_type": "code",
   "execution_count": 25,
   "id": "76ab7976",
   "metadata": {},
   "outputs": [
    {
     "data": {
      "text/plain": [
       "[0             Prerna Singh\n",
       " 1            Nandani Gupta\n",
       " 2               Ameya Jain\n",
       " 3            Mahesh Sarade\n",
       " 4                   Swati \n",
       "                ...        \n",
       " 2155     Sowmiya Sivakumar\n",
       " 2156               Nitin M\n",
       " 2157                Vivek \n",
       " 2158         Ayushi Mishra\n",
       " 2159    Chaitra K Hiremath\n",
       " Name: Agent Name, Length: 2160, dtype: object]"
      ]
     },
     "execution_count": 25,
     "metadata": {},
     "output_type": "execute_result"
    }
   ],
   "source": [
    "#11 . list of all agents name \n",
    "[df['Agent Name']]"
   ]
  },
  {
   "cell_type": "code",
   "execution_count": 87,
   "id": "7ebc439b",
   "metadata": {},
   "outputs": [],
   "source": [
    "#12 . percentage of chat on which they have received a feedback \n",
    "a= df.groupby('Agent Name')['Total Chats'].sum()"
   ]
  },
  {
   "cell_type": "code",
   "execution_count": 88,
   "id": "134a8e6b",
   "metadata": {},
   "outputs": [],
   "source": [
    "b = df.groupby('Agent Name')['Total Feedback'].sum()"
   ]
  },
  {
   "cell_type": "code",
   "execution_count": 89,
   "id": "d3d02801",
   "metadata": {},
   "outputs": [],
   "source": [
    "c = (b/a)*100"
   ]
  },
  {
   "cell_type": "code",
   "execution_count": 90,
   "id": "4bcd9add",
   "metadata": {},
   "outputs": [
    {
     "data": {
      "text/plain": [
       "Agent Name\n",
       "Aditya Shinde              55.234657\n",
       "Aditya_iot                 56.709957\n",
       "Ameya Jain                 70.807453\n",
       "Anirudh                    48.148148\n",
       "Ankitjha                   60.000000\n",
       "Anurag Tiwari              75.000000\n",
       "Aravind                    63.661202\n",
       "Ashad Nasim                50.000000\n",
       "Ayushi Mishra              64.007782\n",
       "Bharath                    66.937669\n",
       "Boktiar Ahmed Bappy        68.805310\n",
       "Chaitra K Hiremath         57.812500\n",
       "Deepranjan Gupta           63.286004\n",
       "Dibyanshu                   0.000000\n",
       "Harikrishnan Shaji         60.629921\n",
       "Hitesh Choudhary            0.000000\n",
       "Hrisikesh Neogi            63.494810\n",
       "Ishawant Kumar             59.763314\n",
       "Jawala Prakash             56.947608\n",
       "Jayant Kumar               55.118110\n",
       "Jaydeep Dixit              59.570312\n",
       "Khushboo Priya             64.798206\n",
       "Madhulika G                59.914712\n",
       "Mahak                      71.428571\n",
       "Mahesh Sarade              59.340659\n",
       "Maitry                     64.022140\n",
       "Maneesh                    75.000000\n",
       "Manjunatha A               61.501211\n",
       "Mithun S                   72.365805\n",
       "Mukesh                     89.473684\n",
       "Mukesh Rao                100.000000\n",
       "Muskan Garg                66.071429\n",
       "Nandani Gupta              55.000000\n",
       "Nishtha Jain               68.900804\n",
       "Prabir Kumar Satapathy     74.247492\n",
       "Prateek _iot               56.315789\n",
       "Prerna Singh               58.603491\n",
       "Rishav Dash                64.547677\n",
       "Saikumarreddy N            79.670330\n",
       "Samprit                     0.000000\n",
       "Sandipan Saha              60.000000\n",
       "Sanjeev Kumar              61.341223\n",
       "Saurabh Shukla             50.000000\n",
       "Shiva Srivastava           86.792453\n",
       "Shivan K                   68.067227\n",
       "Shivan_S                   57.142857\n",
       "Shivananda Sonwane         59.637188\n",
       "Shubham Sharma             58.823529\n",
       "Sowmiya Sivakumar          68.446602\n",
       "Sudhanshu Kumar           100.000000\n",
       "Suraj S Bilgi              53.571429\n",
       "Swati                      57.633588\n",
       "Tarun                      27.272727\n",
       "Vivek                      45.454545\n",
       "Wasim                      65.588915\n",
       "Zeeshan                    61.808118\n",
       "dtype: float64"
      ]
     },
     "execution_count": 90,
     "metadata": {},
     "output_type": "execute_result"
    }
   ],
   "source": [
    "c.dropna()"
   ]
  },
  {
   "cell_type": "code",
   "execution_count": null,
   "id": "320bea46",
   "metadata": {},
   "outputs": [],
   "source": [
    "df.head()"
   ]
  },
  {
   "cell_type": "code",
   "execution_count": 49,
   "id": "0e868986",
   "metadata": {},
   "outputs": [],
   "source": [
    "#13 . Total contributation hour for each and every agents weekly basis \n",
    "df_login = pd.read_csv(r'C:\\Users\\sahil\\Documents\\ineuron\\dataset\\AgentLogingReport.csv')"
   ]
  },
  {
   "cell_type": "code",
   "execution_count": 50,
   "id": "a62c3dbf",
   "metadata": {},
   "outputs": [
    {
     "data": {
      "text/html": [
       "<div>\n",
       "<style scoped>\n",
       "    .dataframe tbody tr th:only-of-type {\n",
       "        vertical-align: middle;\n",
       "    }\n",
       "\n",
       "    .dataframe tbody tr th {\n",
       "        vertical-align: top;\n",
       "    }\n",
       "\n",
       "    .dataframe thead th {\n",
       "        text-align: right;\n",
       "    }\n",
       "</style>\n",
       "<table border=\"1\" class=\"dataframe\">\n",
       "  <thead>\n",
       "    <tr style=\"text-align: right;\">\n",
       "      <th></th>\n",
       "      <th>SL No</th>\n",
       "      <th>Agent</th>\n",
       "      <th>Date</th>\n",
       "      <th>Login Time</th>\n",
       "      <th>Logout Time</th>\n",
       "      <th>Duration</th>\n",
       "    </tr>\n",
       "  </thead>\n",
       "  <tbody>\n",
       "    <tr>\n",
       "      <th>0</th>\n",
       "      <td>1</td>\n",
       "      <td>Shivananda Sonwane</td>\n",
       "      <td>30-Jul-22</td>\n",
       "      <td>15:35:29</td>\n",
       "      <td>17:39:39</td>\n",
       "      <td>02:04:10</td>\n",
       "    </tr>\n",
       "    <tr>\n",
       "      <th>1</th>\n",
       "      <td>2</td>\n",
       "      <td>Khushboo Priya</td>\n",
       "      <td>30-Jul-22</td>\n",
       "      <td>15:06:59</td>\n",
       "      <td>15:07:16</td>\n",
       "      <td>00:00:17</td>\n",
       "    </tr>\n",
       "    <tr>\n",
       "      <th>2</th>\n",
       "      <td>3</td>\n",
       "      <td>Nandani Gupta</td>\n",
       "      <td>30-Jul-22</td>\n",
       "      <td>15:04:24</td>\n",
       "      <td>17:31:07</td>\n",
       "      <td>02:26:42</td>\n",
       "    </tr>\n",
       "    <tr>\n",
       "      <th>3</th>\n",
       "      <td>4</td>\n",
       "      <td>Hrisikesh Neogi</td>\n",
       "      <td>30-Jul-22</td>\n",
       "      <td>14:34:29</td>\n",
       "      <td>15:19:35</td>\n",
       "      <td>00:45:06</td>\n",
       "    </tr>\n",
       "    <tr>\n",
       "      <th>4</th>\n",
       "      <td>5</td>\n",
       "      <td>Mukesh</td>\n",
       "      <td>30-Jul-22</td>\n",
       "      <td>14:03:15</td>\n",
       "      <td>15:11:52</td>\n",
       "      <td>01:08:36</td>\n",
       "    </tr>\n",
       "  </tbody>\n",
       "</table>\n",
       "</div>"
      ],
      "text/plain": [
       "   SL No               Agent       Date Login Time Logout Time  Duration\n",
       "0      1  Shivananda Sonwane  30-Jul-22   15:35:29    17:39:39  02:04:10\n",
       "1      2      Khushboo Priya  30-Jul-22   15:06:59    15:07:16  00:00:17\n",
       "2      3       Nandani Gupta  30-Jul-22   15:04:24    17:31:07  02:26:42\n",
       "3      4     Hrisikesh Neogi  30-Jul-22   14:34:29    15:19:35  00:45:06\n",
       "4      5              Mukesh  30-Jul-22   14:03:15    15:11:52  01:08:36"
      ]
     },
     "execution_count": 50,
     "metadata": {},
     "output_type": "execute_result"
    }
   ],
   "source": [
    "df_login.head()"
   ]
  },
  {
   "cell_type": "code",
   "execution_count": 51,
   "id": "4bf2f6fc",
   "metadata": {},
   "outputs": [
    {
     "data": {
      "text/plain": [
       "SL No           int64\n",
       "Agent          object\n",
       "Date           object\n",
       "Login Time     object\n",
       "Logout Time    object\n",
       "Duration       object\n",
       "dtype: object"
      ]
     },
     "execution_count": 51,
     "metadata": {},
     "output_type": "execute_result"
    }
   ],
   "source": [
    "df_login.dtypes"
   ]
  },
  {
   "cell_type": "code",
   "execution_count": 52,
   "id": "80738bb6",
   "metadata": {},
   "outputs": [],
   "source": [
    "df_login['converted_date'] = pd.to_datetime(df_login['Date'])"
   ]
  },
  {
   "cell_type": "code",
   "execution_count": 54,
   "id": "992c3088",
   "metadata": {},
   "outputs": [
    {
     "name": "stderr",
     "output_type": "stream",
     "text": [
      "C:\\Users\\sahil\\AppData\\Local\\Temp\\ipykernel_6732\\2247496842.py:1: FutureWarning: Series.dt.weekofyear and Series.dt.week have been deprecated. Please use Series.dt.isocalendar().week instead.\n",
      "  df_login['week_number'] = df_login['converted_date'].dt.week\n"
     ]
    }
   ],
   "source": [
    "df_login['week_number'] = df_login['converted_date'].dt.week"
   ]
  },
  {
   "cell_type": "code",
   "execution_count": 74,
   "id": "d268d200",
   "metadata": {},
   "outputs": [
    {
     "data": {
      "text/html": [
       "<div>\n",
       "<style scoped>\n",
       "    .dataframe tbody tr th:only-of-type {\n",
       "        vertical-align: middle;\n",
       "    }\n",
       "\n",
       "    .dataframe tbody tr th {\n",
       "        vertical-align: top;\n",
       "    }\n",
       "\n",
       "    .dataframe thead th {\n",
       "        text-align: right;\n",
       "    }\n",
       "</style>\n",
       "<table border=\"1\" class=\"dataframe\">\n",
       "  <thead>\n",
       "    <tr style=\"text-align: right;\">\n",
       "      <th></th>\n",
       "      <th>SL No</th>\n",
       "      <th>Agent</th>\n",
       "      <th>Date</th>\n",
       "      <th>Login Time</th>\n",
       "      <th>Logout Time</th>\n",
       "      <th>Duration</th>\n",
       "      <th>converted_date</th>\n",
       "      <th>hours_contribution</th>\n",
       "      <th>week_number</th>\n",
       "    </tr>\n",
       "  </thead>\n",
       "  <tbody>\n",
       "    <tr>\n",
       "      <th>0</th>\n",
       "      <td>1</td>\n",
       "      <td>Shivananda Sonwane</td>\n",
       "      <td>30-Jul-22</td>\n",
       "      <td>15:35:29</td>\n",
       "      <td>17:39:39</td>\n",
       "      <td>02:04:10</td>\n",
       "      <td>2022-07-30</td>\n",
       "      <td>2</td>\n",
       "      <td>30</td>\n",
       "    </tr>\n",
       "    <tr>\n",
       "      <th>1</th>\n",
       "      <td>2</td>\n",
       "      <td>Khushboo Priya</td>\n",
       "      <td>30-Jul-22</td>\n",
       "      <td>15:06:59</td>\n",
       "      <td>15:07:16</td>\n",
       "      <td>00:00:17</td>\n",
       "      <td>2022-07-30</td>\n",
       "      <td>0</td>\n",
       "      <td>30</td>\n",
       "    </tr>\n",
       "    <tr>\n",
       "      <th>2</th>\n",
       "      <td>3</td>\n",
       "      <td>Nandani Gupta</td>\n",
       "      <td>30-Jul-22</td>\n",
       "      <td>15:04:24</td>\n",
       "      <td>17:31:07</td>\n",
       "      <td>02:26:42</td>\n",
       "      <td>2022-07-30</td>\n",
       "      <td>2</td>\n",
       "      <td>30</td>\n",
       "    </tr>\n",
       "    <tr>\n",
       "      <th>3</th>\n",
       "      <td>4</td>\n",
       "      <td>Hrisikesh Neogi</td>\n",
       "      <td>30-Jul-22</td>\n",
       "      <td>14:34:29</td>\n",
       "      <td>15:19:35</td>\n",
       "      <td>00:45:06</td>\n",
       "      <td>2022-07-30</td>\n",
       "      <td>0</td>\n",
       "      <td>30</td>\n",
       "    </tr>\n",
       "    <tr>\n",
       "      <th>4</th>\n",
       "      <td>5</td>\n",
       "      <td>Mukesh</td>\n",
       "      <td>30-Jul-22</td>\n",
       "      <td>14:03:15</td>\n",
       "      <td>15:11:52</td>\n",
       "      <td>01:08:36</td>\n",
       "      <td>2022-07-30</td>\n",
       "      <td>1</td>\n",
       "      <td>30</td>\n",
       "    </tr>\n",
       "    <tr>\n",
       "      <th>...</th>\n",
       "      <td>...</td>\n",
       "      <td>...</td>\n",
       "      <td>...</td>\n",
       "      <td>...</td>\n",
       "      <td>...</td>\n",
       "      <td>...</td>\n",
       "      <td>...</td>\n",
       "      <td>...</td>\n",
       "      <td>...</td>\n",
       "    </tr>\n",
       "    <tr>\n",
       "      <th>993</th>\n",
       "      <td>994</td>\n",
       "      <td>Sowmiya Sivakumar</td>\n",
       "      <td>20-Jul-22</td>\n",
       "      <td>09:04:06</td>\n",
       "      <td>16:01:53</td>\n",
       "      <td>06:57:47</td>\n",
       "      <td>2022-07-20</td>\n",
       "      <td>6</td>\n",
       "      <td>29</td>\n",
       "    </tr>\n",
       "    <tr>\n",
       "      <th>994</th>\n",
       "      <td>995</td>\n",
       "      <td>Aravind</td>\n",
       "      <td>20-Jul-22</td>\n",
       "      <td>09:03:51</td>\n",
       "      <td>15:15:46</td>\n",
       "      <td>06:11:55</td>\n",
       "      <td>2022-07-20</td>\n",
       "      <td>6</td>\n",
       "      <td>29</td>\n",
       "    </tr>\n",
       "    <tr>\n",
       "      <th>995</th>\n",
       "      <td>996</td>\n",
       "      <td>Manjunatha A</td>\n",
       "      <td>20-Jul-22</td>\n",
       "      <td>09:03:51</td>\n",
       "      <td>15:02:28</td>\n",
       "      <td>05:58:37</td>\n",
       "      <td>2022-07-20</td>\n",
       "      <td>5</td>\n",
       "      <td>29</td>\n",
       "    </tr>\n",
       "    <tr>\n",
       "      <th>996</th>\n",
       "      <td>997</td>\n",
       "      <td>Bharath</td>\n",
       "      <td>20-Jul-22</td>\n",
       "      <td>09:00:49</td>\n",
       "      <td>15:01:32</td>\n",
       "      <td>06:00:43</td>\n",
       "      <td>2022-07-20</td>\n",
       "      <td>6</td>\n",
       "      <td>29</td>\n",
       "    </tr>\n",
       "    <tr>\n",
       "      <th>997</th>\n",
       "      <td>998</td>\n",
       "      <td>Khushboo Priya</td>\n",
       "      <td>20-Jul-22</td>\n",
       "      <td>08:59:20</td>\n",
       "      <td>14:26:55</td>\n",
       "      <td>05:27:34</td>\n",
       "      <td>2022-07-20</td>\n",
       "      <td>5</td>\n",
       "      <td>29</td>\n",
       "    </tr>\n",
       "  </tbody>\n",
       "</table>\n",
       "<p>997 rows × 9 columns</p>\n",
       "</div>"
      ],
      "text/plain": [
       "     SL No               Agent       Date Login Time Logout Time  Duration  \\\n",
       "0        1  Shivananda Sonwane  30-Jul-22   15:35:29    17:39:39  02:04:10   \n",
       "1        2      Khushboo Priya  30-Jul-22   15:06:59    15:07:16  00:00:17   \n",
       "2        3       Nandani Gupta  30-Jul-22   15:04:24    17:31:07  02:26:42   \n",
       "3        4     Hrisikesh Neogi  30-Jul-22   14:34:29    15:19:35  00:45:06   \n",
       "4        5              Mukesh  30-Jul-22   14:03:15    15:11:52  01:08:36   \n",
       "..     ...                 ...        ...        ...         ...       ...   \n",
       "993    994   Sowmiya Sivakumar  20-Jul-22   09:04:06    16:01:53  06:57:47   \n",
       "994    995             Aravind  20-Jul-22   09:03:51    15:15:46  06:11:55   \n",
       "995    996        Manjunatha A  20-Jul-22   09:03:51    15:02:28  05:58:37   \n",
       "996    997             Bharath  20-Jul-22   09:00:49    15:01:32  06:00:43   \n",
       "997    998      Khushboo Priya  20-Jul-22   08:59:20    14:26:55  05:27:34   \n",
       "\n",
       "    converted_date  hours_contribution  week_number  \n",
       "0       2022-07-30                   2           30  \n",
       "1       2022-07-30                   0           30  \n",
       "2       2022-07-30                   2           30  \n",
       "3       2022-07-30                   0           30  \n",
       "4       2022-07-30                   1           30  \n",
       "..             ...                 ...          ...  \n",
       "993     2022-07-20                   6           29  \n",
       "994     2022-07-20                   6           29  \n",
       "995     2022-07-20                   5           29  \n",
       "996     2022-07-20                   6           29  \n",
       "997     2022-07-20                   5           29  \n",
       "\n",
       "[997 rows x 9 columns]"
      ]
     },
     "execution_count": 74,
     "metadata": {},
     "output_type": "execute_result"
    }
   ],
   "source": [
    "df_login"
   ]
  },
  {
   "cell_type": "code",
   "execution_count": 65,
   "id": "d266afb1",
   "metadata": {},
   "outputs": [
    {
     "data": {
      "text/plain": [
       "(998, 9)"
      ]
     },
     "execution_count": 65,
     "metadata": {},
     "output_type": "execute_result"
    }
   ],
   "source": [
    "df_login.shape"
   ]
  },
  {
   "cell_type": "code",
   "execution_count": 64,
   "id": "e381b869",
   "metadata": {},
   "outputs": [],
   "source": [
    "df_login = df_login.iloc[:998,:]"
   ]
  },
  {
   "cell_type": "code",
   "execution_count": 69,
   "id": "807eff94",
   "metadata": {},
   "outputs": [],
   "source": [
    "df_login.drop(axis=0,index=557, inplace=True)"
   ]
  },
  {
   "cell_type": "code",
   "execution_count": 70,
   "id": "fd357aeb",
   "metadata": {},
   "outputs": [
    {
     "data": {
      "text/html": [
       "<div>\n",
       "<style scoped>\n",
       "    .dataframe tbody tr th:only-of-type {\n",
       "        vertical-align: middle;\n",
       "    }\n",
       "\n",
       "    .dataframe tbody tr th {\n",
       "        vertical-align: top;\n",
       "    }\n",
       "\n",
       "    .dataframe thead th {\n",
       "        text-align: right;\n",
       "    }\n",
       "</style>\n",
       "<table border=\"1\" class=\"dataframe\">\n",
       "  <thead>\n",
       "    <tr style=\"text-align: right;\">\n",
       "      <th></th>\n",
       "      <th>SL No</th>\n",
       "      <th>Agent</th>\n",
       "      <th>Date</th>\n",
       "      <th>Login Time</th>\n",
       "      <th>Logout Time</th>\n",
       "      <th>Duration</th>\n",
       "      <th>converted_date</th>\n",
       "      <th>hours_contribution</th>\n",
       "      <th>week_number</th>\n",
       "    </tr>\n",
       "  </thead>\n",
       "  <tbody>\n",
       "  </tbody>\n",
       "</table>\n",
       "</div>"
      ],
      "text/plain": [
       "Empty DataFrame\n",
       "Columns: [SL No, Agent, Date, Login Time, Logout Time, Duration, converted_date, hours_contribution, week_number]\n",
       "Index: []"
      ]
     },
     "execution_count": 70,
     "metadata": {},
     "output_type": "execute_result"
    }
   ],
   "source": [
    "df_login[df_login['Duration'] == '24:09:54']"
   ]
  },
  {
   "cell_type": "code",
   "execution_count": 71,
   "id": "1f5bf68f",
   "metadata": {},
   "outputs": [],
   "source": [
    "df_login['hours_contribution'] = pd.to_datetime(df_login['Duration'], format='%H:%M:%S').dt.hour"
   ]
  },
  {
   "cell_type": "code",
   "execution_count": 73,
   "id": "cd37bdfc",
   "metadata": {},
   "outputs": [
    {
     "data": {
      "text/plain": [
       "Agent               week_number\n",
       "Deepranjan Gupta    30             49\n",
       "                    29             40\n",
       "Chaitra K Hiremath  30             29\n",
       "Mithun S            30             26\n",
       "Harikrishnan Shaji  30             26\n",
       "                                   ..\n",
       "Anurag Tiwari       29              0\n",
       "Hyder Abbas         29              0\n",
       "                    30              0\n",
       "Nitin M             29              0\n",
       "Aditya Shinde       30              0\n",
       "Name: hours_contribution, Length: 88, dtype: int64"
      ]
     },
     "execution_count": 73,
     "metadata": {},
     "output_type": "execute_result"
    }
   ],
   "source": [
    "df_login.groupby(['Agent','week_number'])['hours_contribution'].sum().sort_values(ascending = False)"
   ]
  },
  {
   "cell_type": "code",
   "execution_count": 75,
   "id": "ab01b14c",
   "metadata": {},
   "outputs": [],
   "source": [
    "#14. total percentage of active hours for a month in week\n",
    "\n",
    "\n",
    "\n",
    "ab = df_login['hours_contribution'].sum()"
   ]
  },
  {
   "cell_type": "code",
   "execution_count": 77,
   "id": "3ba0ca46",
   "metadata": {},
   "outputs": [
    {
     "data": {
      "text/plain": [
       "1360"
      ]
     },
     "execution_count": 77,
     "metadata": {},
     "output_type": "execute_result"
    }
   ],
   "source": [
    "ab"
   ]
  },
  {
   "cell_type": "code",
   "execution_count": 78,
   "id": "de8f4907",
   "metadata": {},
   "outputs": [
    {
     "data": {
      "text/plain": [
       "0      0.147059\n",
       "1      0.000000\n",
       "2      0.147059\n",
       "3      0.000000\n",
       "4      0.073529\n",
       "         ...   \n",
       "993    0.441176\n",
       "994    0.441176\n",
       "995    0.367647\n",
       "996    0.441176\n",
       "997    0.367647\n",
       "Name: hours_contribution, Length: 997, dtype: float64"
      ]
     },
     "execution_count": 78,
     "metadata": {},
     "output_type": "execute_result"
    }
   ],
   "source": [
    "(df_login['hours_contribution']/df_login['hours_contribution'].sum())*100"
   ]
  },
  {
   "cell_type": "code",
   "execution_count": null,
   "id": "426904a3",
   "metadata": {},
   "outputs": [],
   "source": []
  }
 ],
 "metadata": {
  "kernelspec": {
   "display_name": "Python 3 (ipykernel)",
   "language": "python",
   "name": "python3"
  },
  "language_info": {
   "codemirror_mode": {
    "name": "ipython",
    "version": 3
   },
   "file_extension": ".py",
   "mimetype": "text/x-python",
   "name": "python",
   "nbconvert_exporter": "python",
   "pygments_lexer": "ipython3",
   "version": "3.9.12"
  }
 },
 "nbformat": 4,
 "nbformat_minor": 5
}
